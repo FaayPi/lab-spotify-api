{
 "cells": [
  {
   "cell_type": "markdown",
   "metadata": {
    "id": "-M3QFIFrKdPt"
   },
   "source": [
    "# Installing Spotipy"
   ]
  },
  {
   "cell_type": "code",
   "execution_count": null,
   "metadata": {
    "colab": {
     "base_uri": "https://localhost:8080/"
    },
    "executionInfo": {
     "elapsed": 5245,
     "status": "ok",
     "timestamp": 1623745902730,
     "user": {
      "displayName": "Ignacio Soteras",
      "photoUrl": "",
      "userId": "02050793736257155229"
     },
     "user_tz": -120
    },
    "id": "tis_6tTpKY1Z",
    "outputId": "adfb4763-04d9-4b55-b0d8-c5e317263072"
   },
   "outputs": [],
   "source": [
    "!conda install -c conda-forge spotipy"
   ]
  },
  {
   "cell_type": "markdown",
   "metadata": {
    "id": "fnhh4ayEOKz4"
   },
   "source": [
    "## Loading credentials from the config file"
   ]
  },
  {
   "cell_type": "markdown",
   "metadata": {},
   "source": [
    "#### Make sure that you have stored your spotify client_id and client_secret in a separate config.py file\n",
    "#### Once that's done, we import it"
   ]
  },
  {
   "cell_type": "code",
   "execution_count": null,
   "metadata": {},
   "outputs": [],
   "source": [
    "client_id = 'xxx'\n",
    "client_secret = 'yyy'\n",
    "redirect_uri = 'http://localhost:8888/callback'"
   ]
  },
  {
   "cell_type": "code",
   "execution_count": null,
   "metadata": {
    "ExecuteTime": {
     "end_time": "2022-11-23T08:53:19.773334Z",
     "start_time": "2022-11-23T08:53:19.511876Z"
    },
    "colab": {
     "base_uri": "https://localhost:8080/"
    },
    "executionInfo": {
     "elapsed": 23559,
     "status": "ok",
     "timestamp": 1623745938174,
     "user": {
      "displayName": "Ignacio Soteras",
      "photoUrl": "",
      "userId": "02050793736257155229"
     },
     "user_tz": -120
    },
    "id": "5j1kqPOoN_I5",
    "outputId": "23c4b5dd-b94b-425d-e2b9-e5647cb055df"
   },
   "outputs": [],
   "source": [
    "import spotipy\n",
    "from spotipy.oauth2 import SpotifyClientCredentials\n",
    "\n",
    "sp = spotipy.Spotify(auth_manager=SpotifyClientCredentials(\n",
    "    client_id=client_id,\n",
    "    client_secret=client_secret\n",
    "))\n",
    "\n",
    "track = sp.track('3n3Ppam7vgaVa1iaRUc9Lp')\n",
    "print(track['name'], 'von', track['artists'][0]['name'])\n"
   ]
  },
  {
   "cell_type": "code",
   "execution_count": null,
   "metadata": {},
   "outputs": [],
   "source": [
    "import pkg_resources\n",
    "\n",
    "spotipy_version = pkg_resources.get_distribution(\"spotipy\").version\n",
    "print(spotipy_version)\n"
   ]
  },
  {
   "cell_type": "markdown",
   "metadata": {
    "id": "0fpGWmsCOSx0"
   },
   "source": [
    "## Starting with Spotify API"
   ]
  },
  {
   "cell_type": "code",
   "execution_count": null,
   "metadata": {
    "ExecuteTime": {
     "end_time": "2022-11-23T08:53:27.060562Z",
     "start_time": "2022-11-23T08:53:26.974725Z"
    },
    "colab": {
     "base_uri": "https://localhost:8080/"
    },
    "executionInfo": {
     "elapsed": 313,
     "status": "ok",
     "timestamp": 1623747121467,
     "user": {
      "displayName": "Ignacio Soteras",
      "photoUrl": "",
      "userId": "02050793736257155229"
     },
     "user_tz": -120
    },
    "id": "-0qiqFTZqqE2",
    "outputId": "c532baae-8ff5-4abc-b70e-0bda934d25b1"
   },
   "outputs": [],
   "source": [
    "import spotipy\n",
    "import pandas as pd\n",
    "import json\n",
    "from spotipy.oauth2 import SpotifyOAuth\n",
    "\n",
    "#Spotify-Objekt mit Authentifizierung\n",
    "sp = spotipy.Spotify(auth_manager=SpotifyOAuth(\n",
    "    client_id=client_id,\n",
    "    client_secret=client_secret,\n",
    "    redirect_uri=redirect_uri,\n",
    "    scope=[\"user-library-read\", \"user-read-playback-state\", \"playlist-read-private\"]\n",
    "))\n",
    "\n",
    "# Holen der URL zur Authentifizierung (Umleitung)\n",
    "auth_url = sp.auth_manager.get_authorize_url()\n",
    "print(\"Öffne diese URL im Browser und melde dich bei Spotify an:\", auth_url)\n",
    "\n",
    "# Warte auf den eingegebenen Code\n",
    "response = input(\"Füge den Code aus der URL hier ein: \")\n",
    "\n",
    "# Den Code gegen ein Zugriffstoken eintauschen\n",
    "token_info = sp.auth_manager.get_access_token(response)\n",
    "sp = spotipy.Spotify(auth=token_info['access_token'])\n",
    "\n",
    "# Benutzerinformationen anzeigen\n",
    "user_info = sp.current_user()\n",
    "print(user_info)\n"
   ]
  },
  {
   "cell_type": "code",
   "execution_count": null,
   "metadata": {},
   "outputs": [],
   "source": [
    "import pprint"
   ]
  },
  {
   "cell_type": "markdown",
   "metadata": {
    "id": "wlYAUHZMGEPp"
   },
   "source": [
    "# Understanding the json"
   ]
  },
  {
   "cell_type": "code",
   "execution_count": null,
   "metadata": {
    "colab": {
     "base_uri": "https://localhost:8080/"
    },
    "executionInfo": {
     "elapsed": 336,
     "status": "ok",
     "timestamp": 1623748232522,
     "user": {
      "displayName": "Ignacio Soteras",
      "photoUrl": "",
      "userId": "02050793736257155229"
     },
     "user_tz": -120
    },
    "id": "gQzoV9fjEbm6",
    "outputId": "0747fac5-b2f5-44a0-a9cd-393ed3196cbf",
    "scrolled": true
   },
   "outputs": [],
   "source": [
    "import spotipy\n",
    "from spotipy.oauth2 import SpotifyClientCredentials\n",
    "import json\n",
    "\n",
    "results = sp.search(q=\"2024 Top 100 Germany\", type=\"playlist\", limit=10, )\n",
    "\n",
    "print(json.dumps(results, indent=2, ensure_ascii=False))"
   ]
  },
  {
   "cell_type": "markdown",
   "metadata": {
    "id": "ma33RhJ3GyyD"
   },
   "source": [
    "## Other Info"
   ]
  },
  {
   "cell_type": "code",
   "execution_count": null,
   "metadata": {
    "colab": {
     "base_uri": "https://localhost:8080/",
     "height": 35
    },
    "executionInfo": {
     "elapsed": 314,
     "status": "ok",
     "timestamp": 1623748532709,
     "user": {
      "displayName": "Ignacio Soteras",
      "photoUrl": "",
      "userId": "02050793736257155229"
     },
     "user_tz": -120
    },
    "id": "rpRcNkuhG1Ht",
    "outputId": "bb6cc417-17bd-404f-d31c-302a97bf9ffe"
   },
   "outputs": [],
   "source": []
  },
  {
   "cell_type": "markdown",
   "metadata": {},
   "source": [
    "## Getting the track_id"
   ]
  },
  {
   "cell_type": "code",
   "execution_count": null,
   "metadata": {},
   "outputs": [],
   "source": [
    "# Suche nach einem Song (z.B. \"Shape of You\" von Ed Sheeran)\n",
    "track_name = \"Bucket Listener\"\n",
    "result = sp.search(q=track_name, type='track', limit=1)  # Wir suchen nach einem Track\n",
    "\n",
    "# Extrahiere die Track-ID\n",
    "track_id = result['tracks']['items'][0]['id']\n",
    "artist_name = result['tracks']['items'][0]['artists'][0]['name']\n",
    "print(f\"Track-ID of '{track_name}' by '{artist_name}': {track_id}\")"
   ]
  },
  {
   "cell_type": "markdown",
   "metadata": {},
   "source": [
    "## Embedded track player"
   ]
  },
  {
   "cell_type": "code",
   "execution_count": null,
   "metadata": {},
   "outputs": [],
   "source": [
    "from IPython.display import HTML, display\n",
    "\n",
    "# Funktion zum Einbetten eines Spotify Tracks\n",
    "def embed_spotify_track(track_id):\n",
    "    embed_code = f'<iframe src=\"https://open.spotify.com/embed/track/{track_id}\" width=\"300\" height=\"80\" frameBorder=\"0\" allowtransparency=\"true\" allow=\"encrypted-media\"></iframe>'\n",
    "    display(HTML(embed_code))\n",
    "\n",
    "# Beispiel: Funktion aufrufen, um den Track einzubetten\n",
    "embed_spotify_track('2fkRso7UhJxinCamVHv3dC')\n"
   ]
  },
  {
   "cell_type": "markdown",
   "metadata": {},
   "source": [
    "# Getting the Audio features of a song"
   ]
  },
  {
   "cell_type": "markdown",
   "metadata": {},
   "source": [
    "## Building a Data frame of audio features"
   ]
  },
  {
   "cell_type": "code",
   "execution_count": null,
   "metadata": {},
   "outputs": [],
   "source": [
    "# feature is outdated, not existig anymore for the api"
   ]
  },
  {
   "cell_type": "markdown",
   "metadata": {
    "id": "ZdgnthLDIDUz"
   },
   "source": [
    "## Searching a playlist"
   ]
  },
  {
   "cell_type": "code",
   "execution_count": null,
   "metadata": {
    "colab": {
     "base_uri": "https://localhost:8080/"
    },
    "executionInfo": {
     "elapsed": 4,
     "status": "ok",
     "timestamp": 1623748576469,
     "user": {
      "displayName": "Ignacio Soteras",
      "photoUrl": "",
      "userId": "02050793736257155229"
     },
     "user_tz": -120
    },
    "id": "hEmemxE9oDwa",
    "outputId": "fb5cd5d8-df90-45b9-e083-0fc52307b408"
   },
   "outputs": [],
   "source": [
    "# 1. Suche nach Playlists\n",
    "def search_playlists(query, limit=10):\n",
    "    results = sp.search(q=query, limit=limit, type='playlist')\n",
    "    playlists = results['playlists']['items']\n",
    "    return playlists\n",
    "\n",
    "# 2. Zeige die Playlists an\n",
    "def display_playlists(playlists):\n",
    "    for idx, playlist in enumerate(playlists):\n",
    "        print(f\"{idx + 1}. {playlist['name']} by {playlist['owner']['display_name']}\")\n",
    "        print(f\"Playlist-ID: {playlist['id']}\")\n",
    "        print(f\"Link: {playlist['external_urls']['spotify']}\")\n",
    "        print(f\"Description: {playlist['description']}\\n\")\n",
    "\n",
    "# Beispiel-Suchbegriff (z.B. 'chill music')\n",
    "search_query = 'late night chill'  # Suchbegriff für Playlists\n",
    "playlists = search_playlists(search_query)\n",
    "\n",
    "# 3. Anzeigen der gefundenen Playlists\n",
    "display_playlists(playlists)\n"
   ]
  },
  {
   "cell_type": "markdown",
   "metadata": {},
   "source": [
    "## Extracting a song from playlist"
   ]
  },
  {
   "cell_type": "code",
   "execution_count": null,
   "metadata": {
    "colab": {
     "base_uri": "https://localhost:8080/"
    },
    "executionInfo": {
     "elapsed": 363,
     "status": "ok",
     "timestamp": 1623748609799,
     "user": {
      "displayName": "Ignacio Soteras",
      "photoUrl": "",
      "userId": "02050793736257155229"
     },
     "user_tz": -120
    },
    "id": "wG-PfUCEIKvy",
    "outputId": "2c5135b8-7fa6-4f4f-c4d9-a35ed4f949d0"
   },
   "outputs": [],
   "source": [
    "def get_first_song_from_playlist(playlist_id, limit=10):\n",
    "    results = sp.playlist_tracks(playlist_id, limit=limit)\n",
    "    items = results['items']  # <-- hier korrekter Name\n",
    "    tracks = []\n",
    "    \n",
    "    for item in items:\n",
    "        track = item['track']\n",
    "        if track:  # manchmal kann das 'None' sein, z.B. wenn ein Song gelöscht wurde\n",
    "            song_name = track['name']\n",
    "            artist_name = track['artists'][0]['name']\n",
    "            uri = track['uri']\n",
    "            tracks.append({\n",
    "                'name': song_name,\n",
    "                'artist': artist_name,\n",
    "                'uri': uri\n",
    "            })\n",
    "    return tracks\n",
    "\n",
    "playlist_id = \"1mUrePLiLRYpJsDekvTcLg\"\n",
    "\n",
    "songs = get_first_song_from_playlist(playlist_id)\n",
    "\n",
    "for idx, song in enumerate(songs, 1):\n",
    "    print(f\"{idx}. {song['name']} – {song['artist']} (URI: {song['uri']})\")\n"
   ]
  },
  {
   "cell_type": "markdown",
   "metadata": {
    "id": "8gIIuaAAIhQi"
   },
   "source": [
    "## Extracting the songs of a playlist"
   ]
  },
  {
   "cell_type": "markdown",
   "metadata": {
    "id": "vmwZa11wjBM6"
   },
   "source": [
    "Pagination using \"next\".\n",
    "When you collect songs from a playlist using sp.playlist_tracks, you're limited by the limit parameter, which has a maximum (and default) value of 100. When the playlist has more than 100 songs, you have to collect them by navigating through the \"pages\" of the results.\n",
    "\n",
    "The parameter offset allows you to retrieve resuls starting at a certain position: if you start at position 101, you'd get the next \"page\" of results. An offset of 201 would give you the third page, and so on.\n",
    "\n",
    "The function sp.next() does the same, but in a simpler way: it can be used on the results from any request to directly retrieve the results for the next page.\n",
    "\n",
    "We can check whether there's a next page or not by accessing the key next on the results from any request."
   ]
  },
  {
   "cell_type": "code",
   "execution_count": null,
   "metadata": {},
   "outputs": [],
   "source": [
    "def extract_song_from_playlist(playlist_id, song_name):\n",
    "    results = sp.playlist_tracks(playlist_id, limit=100)\n",
    "    items = results['items']\n",
    "    \n",
    "    for item in items:\n",
    "        track = item['track']\n",
    "        if track and song_name.lower() in track['name'].lower():\n",
    "            return {\n",
    "                'name': track['name'],\n",
    "                'artist': track['artists'][0]['name'],\n",
    "                'uri': track['uri']\n",
    "            }\n",
    "    \n",
    "    return None  # Falls nichts gefunden wurde\n",
    "\n",
    "\n",
    "playlist_id = '1mUrePLiLRYpJsDekvTcLg'\n",
    "search_title = \"Chasing Highs\"\n",
    "\n",
    "song = extract_song_from_playlist(playlist_id, search_title)\n",
    "\n",
    "if song:\n",
    "    print(f\"✅ Gefunden: {song['name']} – {song['artist']}\")\n",
    "    print(f\"URI: {song['uri']}\")\n",
    "else:\n",
    "    print(\"❌ Song nicht in der Playlist gefunden.\")\n"
   ]
  },
  {
   "cell_type": "markdown",
   "metadata": {},
   "source": [
    "### Chopping a big playlist into chunks"
   ]
  },
  {
   "cell_type": "code",
   "execution_count": null,
   "metadata": {},
   "outputs": [],
   "source": [
    "def get_all_tracks_in_chunks(playlist_id, chunk_size=100):\n",
    "    tracks = []\n",
    "    offset = 0\n",
    "    total = None\n",
    "\n",
    "    while True:\n",
    "        response = sp.playlist_tracks(playlist_id, limit=chunk_size, offset=offset)\n",
    "        \n",
    "        if total is None:\n",
    "            total = response['total']\n",
    "        \n",
    "        items = response['items']\n",
    "        if not items:\n",
    "            break\n",
    "\n",
    "        tracks.extend(items)\n",
    "        offset += chunk_size\n",
    "\n",
    "        print(f\"✅ Chunk geladen: {offset}/{total} Songs\")\n",
    "\n",
    "        if offset >= total:\n",
    "            break\n",
    "\n",
    "    return tracks\n",
    "\n",
    "\n",
    "playlist_id = '1mUrePLiLRYpJsDekvTcLg'\n",
    "tracks = get_all_tracks_in_chunks(playlist_id)\n",
    "\n",
    "print(f\"🎧 Gesamtzahl Tracks: {len(tracks)}\")\n",
    "\n",
    "# Beispiel: Namen der ersten 5 Tracks\n",
    "for t in tracks[:5]:\n",
    "    print(t['track']['name'], \"-\", t['track']['artists'][0]['name'])\n",
    "\n"
   ]
  },
  {
   "cell_type": "markdown",
   "metadata": {},
   "source": [
    "### Example with rock"
   ]
  },
  {
   "cell_type": "code",
   "execution_count": null,
   "metadata": {},
   "outputs": [
    {
     "name": "stdout",
     "output_type": "stream",
     "text": [
      "1. I Do – Beatsteaks\n",
      "   Genres: Keine Genres gefunden\n",
      "\n",
      "2. Mindestens in 1000 Jahren – Frittenbude\n",
      "   Genres: german pop\n",
      "\n",
      "3. Chasing Highs – ALMA\n",
      "   Genres: Keine Genres gefunden\n",
      "\n",
      "4. Hurra die Welt geht unter - Live – AnnenMayKantereit\n",
      "   Genres: german pop\n",
      "\n",
      "5. Yes Sir – Genetikk\n",
      "   Genres: german hip hop\n",
      "\n",
      "6. Teenage Dirtbag – Wheatus\n",
      "   Genres: Keine Genres gefunden\n",
      "\n",
      "7. Schafe – Herr von Grau\n",
      "   Genres: german hip hop\n",
      "\n",
      "8. Sleeping in (Acoustic) – Phil Good\n",
      "   Genres: Keine Genres gefunden\n",
      "\n",
      "9. Growing Up – Phil Good\n",
      "   Genres: Keine Genres gefunden\n",
      "\n",
      "10. Still Standing – Hilltop Hoods\n",
      "   Genres: Keine Genres gefunden\n",
      "\n"
     ]
    }
   ],
   "source": [
    "import spotipy\n",
    "from spotipy.oauth2 import SpotifyOAuth\n",
    "\n",
    "# Funktion, um die ersten 10 Songs und ihre Genres aus einer Playlist zu holen\n",
    "def get_first_10_songs_with_genre(playlist_id):\n",
    "    # Lade die ersten 10 Tracks aus der Playlist\n",
    "    response = sp.playlist_tracks(playlist_id, limit=10)\n",
    "    items = response['items']\n",
    "    \n",
    "    song_info = []\n",
    "\n",
    "    for item in items:\n",
    "        track = item['track']\n",
    "        if track:\n",
    "            # Holen des Künstlers und seines Genres\n",
    "            artist = track['artists'][0]\n",
    "            artist_id = artist['id']\n",
    "            artist_info = sp.artist(artist_id)\n",
    "            genres = artist_info.get('genres', [])\n",
    "            \n",
    "            song_info.append({\n",
    "                'name': track['name'],\n",
    "                'artist': artist['name'],\n",
    "                'genres': genres\n",
    "            })\n",
    "    \n",
    "    return song_info\n",
    "\n",
    "# Beispiel-Playlist-ID\n",
    "playlist_id = '1mUrePLiLRYpJsDekvTcLg'\n",
    "songs_with_genres = get_first_10_songs_with_genre(playlist_id)\n",
    "\n",
    "# Ausgabe der Song-Informationen und der Genres\n",
    "for idx, song in enumerate(songs_with_genres, 1):\n",
    "    print(f\"{idx}. {song['name']} – {song['artist']}\")\n",
    "    print(f\"   Genres: {', '.join(song['genres']) if song['genres'] else 'Keine Genres gefunden'}\\n\")\n"
   ]
  },
  {
   "cell_type": "markdown",
   "metadata": {},
   "source": [
    "## Optional(Extra)"
   ]
  },
  {
   "cell_type": "markdown",
   "metadata": {
    "id": "0tlqOKWCJDq1"
   },
   "source": [
    "## Getting the artists of the playlist "
   ]
  },
  {
   "cell_type": "code",
   "execution_count": null,
   "metadata": {
    "colab": {
     "base_uri": "https://localhost:8080/"
    },
    "executionInfo": {
     "elapsed": 8072,
     "status": "ok",
     "timestamp": 1623749004146,
     "user": {
      "displayName": "Ignacio Soteras",
      "photoUrl": "",
      "userId": "02050793736257155229"
     },
     "user_tz": -120
    },
    "id": "vMADuNRjCzYW",
    "outputId": "8ed416b0-c989-440f-a7b2-a51ea90177d9"
   },
   "outputs": [],
   "source": []
  },
  {
   "cell_type": "markdown",
   "metadata": {
    "id": "MBq_6MslLqN1"
   },
   "source": [
    "# Getting albums "
   ]
  },
  {
   "cell_type": "markdown",
   "metadata": {
    "id": "flAFNc16L7UA"
   },
   "source": [
    "In this section we will work with albums to extract information. We will start by extracting all the albums of an artist."
   ]
  },
  {
   "cell_type": "markdown",
   "metadata": {
    "id": "W4DVUzVGMBmY"
   },
   "source": [
    "Example: Coldplay"
   ]
  },
  {
   "cell_type": "code",
   "execution_count": null,
   "metadata": {
    "colab": {
     "base_uri": "https://localhost:8080/"
    },
    "executionInfo": {
     "elapsed": 2439,
     "status": "ok",
     "timestamp": 1623749664870,
     "user": {
      "displayName": "Ignacio Soteras",
      "photoUrl": "",
      "userId": "02050793736257155229"
     },
     "user_tz": -120
    },
    "id": "TIl4480OMDe2",
    "outputId": "7d894d55-79d9-4fa9-8773-ec4d399d2d02"
   },
   "outputs": [],
   "source": []
  },
  {
   "cell_type": "markdown",
   "metadata": {
    "id": "ljaglNRvMTL5"
   },
   "source": [
    "## Getting the songs of a given album"
   ]
  },
  {
   "cell_type": "code",
   "execution_count": null,
   "metadata": {
    "colab": {
     "base_uri": "https://localhost:8080/"
    },
    "executionInfo": {
     "elapsed": 48724,
     "status": "ok",
     "timestamp": 1623749793320,
     "user": {
      "displayName": "Ignacio Soteras",
      "photoUrl": "",
      "userId": "02050793736257155229"
     },
     "user_tz": -120
    },
    "id": "WzZLGfwlMd2C",
    "outputId": "044a9334-ee0d-4a82-c8d4-577874c47d80"
   },
   "outputs": [],
   "source": [
    "# credentials lösche bevor ich final speicher!!\n"
   ]
  }
 ],
 "metadata": {
  "colab": {
   "authorship_tag": "ABX9TyPVWC1t3Am5oxfsHrz0cF36",
   "mount_file_id": "1f3HsS5F0GzS75tlHyrwhBGlTWbE0nG4o",
   "name": "Code_along_Spotify_structure.ipynb",
   "provenance": []
  },
  "kernelspec": {
   "display_name": "base",
   "language": "python",
   "name": "python3"
  },
  "language_info": {
   "codemirror_mode": {
    "name": "ipython",
    "version": 3
   },
   "file_extension": ".py",
   "mimetype": "text/x-python",
   "name": "python",
   "nbconvert_exporter": "python",
   "pygments_lexer": "ipython3",
   "version": "3.12.2"
  },
  "toc": {
   "base_numbering": 1,
   "nav_menu": {},
   "number_sections": true,
   "sideBar": true,
   "skip_h1_title": false,
   "title_cell": "Table of Contents",
   "title_sidebar": "Contents",
   "toc_cell": false,
   "toc_position": {},
   "toc_section_display": true,
   "toc_window_display": false
  },
  "varInspector": {
   "cols": {
    "lenName": 16,
    "lenType": 16,
    "lenVar": 40
   },
   "kernels_config": {
    "python": {
     "delete_cmd_postfix": "",
     "delete_cmd_prefix": "del ",
     "library": "var_list.py",
     "varRefreshCmd": "print(var_dic_list())"
    },
    "r": {
     "delete_cmd_postfix": ") ",
     "delete_cmd_prefix": "rm(",
     "library": "var_list.r",
     "varRefreshCmd": "cat(var_dic_list()) "
    }
   },
   "types_to_exclude": [
    "module",
    "function",
    "builtin_function_or_method",
    "instance",
    "_Feature"
   ],
   "window_display": false
  }
 },
 "nbformat": 4,
 "nbformat_minor": 1
}
